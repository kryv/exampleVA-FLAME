{
 "cells": [
  {
   "cell_type": "code",
   "execution_count": null,
   "metadata": {
    "collapsed": false
   },
   "outputs": [],
   "source": [
    "import exVAFm as exVAF\n",
    "import numpy as np\n",
    "from scipy.optimize import minimize"
   ]
  },
  {
   "cell_type": "code",
   "execution_count": null,
   "metadata": {
    "collapsed": true
   },
   "outputs": [],
   "source": [
    "%matplotlib inline\n",
    "import matplotlib.pylab as plt\n",
    "plt.rcParams['font.size'] = 20\n",
    "plt.rcParams['font.family'] = 'serif'\n",
    "plt.rcParams['figure.figsize'] = [12,7]\n",
    "plt.rcParams['axes.grid'] = True\n",
    "plt.rcParams['axes.linewidth'] = 2.0\n",
    "plt.rcParams['lines.linewidth'] = 2.0"
   ]
  },
  {
   "cell_type": "code",
   "execution_count": null,
   "metadata": {
    "collapsed": false
   },
   "outputs": [],
   "source": [
    "corh = np.array(va.getindexu(\"*DCH*\"))\n",
    "corv = np.array(va.getindexu(\"*DCV*\"))\n",
    "bpms = np.array(va.getindexu(\"*BPM*\"))\n",
    "pms  = np.array(va.getindexu(\"*_PM*\"))"
   ]
  },
  {
   "cell_type": "code",
   "execution_count": null,
   "metadata": {
    "collapsed": false
   },
   "outputs": [],
   "source": [
    "# calc cost function with inputted corrector kick angles\n",
    "def cor2bpm(val,corh,corv):\n",
    "    global sola,solx, ncount\n",
    "    ncount +=1\n",
    "    \n",
    "    # set corrector parameters\n",
    "    for i,(j,k) in enumerate(zip(corh,corv)):\n",
    "        va.setelem(j,'theta_x',float(val[0::2][i]))\n",
    "        va.setelem(k,'theta_y',float(val[1::2][i]))\n",
    "\n",
    "    # run simulation\n",
    "    va.tcs()\n",
    "    \n",
    "    xbpms = va.LD[bpms,1]\n",
    "    ybpms = va.LD[bpms,2]\n",
    "    r2bpms = np.sqrt(xbpms*xbpms+ybpms*ybpms)\n",
    "    \n",
    "    # calculate cost function\n",
    "    cost = np.amax(r2bpms)*np.average(r2bpms)*np.std(r2bpms)\n",
    "    \n",
    "    # store best input values\n",
    "    if cost<sola :\n",
    "        sola = cost\n",
    "        solx = val\n",
    "    return(cost)\n",
    "\n",
    "# reset corrector parameters\n",
    "def cor2reset():\n",
    "    for i,(j,k) in enumerate(zip(corh,corv)):\n",
    "        va.setelem(j,'theta_x',0.0)\n",
    "        va.setelem(k,'theta_y',0.0)\n",
    "    va.tcs()"
   ]
  },
  {
   "cell_type": "code",
   "execution_count": null,
   "metadata": {
    "collapsed": false
   },
   "outputs": [],
   "source": [
    "cor2reset()\n",
    "plt.plot(va.LD[0:,0],va.LD[0:,1], label='$x_b$')\n",
    "plt.plot(va.LD[0:,0],va.LD[0:,2], label='$y_b$')\n",
    "plt.legend(loc='best')\n",
    "plt.ylabel('orbit [mm]')\n",
    "plt.xlabel('$z$ [m]')\n",
    "plt.title('Default Orbit')\n",
    "plt.show()"
   ]
  },
  {
   "cell_type": "code",
   "execution_count": null,
   "metadata": {
    "collapsed": false
   },
   "outputs": [],
   "source": [
    "# Set initial parameter for orbit correction\n",
    "var = len(corh)+len(corv)#90 # number of correctors both x and y\n",
    "x0 = np.zeros(var) # initial corrector kick angles (=0.0)\n",
    "bnds = np.array([(-3e-3, 3e-3) for _ in range(len(x0))],dtype=float)"
   ]
  },
  {
   "cell_type": "code",
   "execution_count": null,
   "metadata": {
    "collapsed": false
   },
   "outputs": [],
   "source": [
    "# Run minimization\n",
    "sola = 1e256 # worst cost value\n",
    "ncount = 0   # check number of evaluations\n",
    "res=minimize(cor2bpm,x0,args=(corh,corv,),method='L-BFGS-B',\\\n",
    "             bounds=bnds,\\\n",
    "             options={'maxiter':10, 'disp':False, 'eps':1.0e-7})"
   ]
  },
  {
   "cell_type": "code",
   "execution_count": null,
   "metadata": {
    "collapsed": false,
    "scrolled": true
   },
   "outputs": [],
   "source": [
    "cor2bpm(solx,corh,corv)\n",
    "plt.plot(va.LD[:,0],va.LD[:,1], label='$x$')\n",
    "plt.plot(va.LD[:,0],va.LD[:,2], label='$y$')\n",
    "\n",
    "cor2reset()\n",
    "plt.plot(va.LD[0:,0],va.LD[0:,1], '--',label='$x_b$')\n",
    "plt.plot(va.LD[0:,0],va.LD[0:,2], '--',label='$y_b$')\n",
    "\n",
    "plt.legend(loc='best')\n",
    "plt.ylabel('orbit [mm]')\n",
    "plt.xlabel('$z$ [m]')\n",
    "plt.title('Corrected Orbit')\n",
    "plt.show()"
   ]
  },
  {
   "cell_type": "code",
   "execution_count": null,
   "metadata": {
    "collapsed": false
   },
   "outputs": [],
   "source": [
    "print va.__doc__"
   ]
  },
  {
   "cell_type": "code",
   "execution_count": null,
   "metadata": {
    "collapsed": false
   },
   "outputs": [],
   "source": [
    "s1,d1 = va.tcs_seg(0,409)\n",
    "plt.plot(d1[:,0],d1[:,1])\n",
    "sd = va.SaveBeam(s1)\n",
    "\n",
    "va.setelem(410,'B',5.0)\n",
    "s2,d2 = va.tcs_seg(409,822,SD=sd)\n",
    "plt.plot(d2[:,0],d2[:,1],label='$B_z$ = 5.0')\n",
    "\n",
    "va.setelem(410,'B',10.0)\n",
    "s3,d3 = va.tcs_seg(409,822,SD=sd)\n",
    "plt.plot(d3[:,0],d3[:,1],label='$B_z$ = 10.0')\n",
    "\n",
    "va.setelem(410,'B',15.0)\n",
    "s4,d4 = va.tcs_seg(409,822,SD=sd)\n",
    "plt.plot(d4[:,0],d4[:,1],label='$B_z$ = 15.0')\n",
    "\n",
    "plt.legend(loc='best')\n",
    "plt.ylabel('orbit [mm]')\n",
    "plt.xlabel('$z$ [m]')\n",
    "plt.title('Case study: SOL3_D1594')\n",
    "\n",
    "plt.show()"
   ]
  }
 ],
 "metadata": {
  "kernelspec": {
   "display_name": "Python 2",
   "language": "python",
   "name": "python2"
  },
  "language_info": {
   "codemirror_mode": {
    "name": "ipython",
    "version": 2
   },
   "file_extension": ".py",
   "mimetype": "text/x-python",
   "name": "python",
   "nbconvert_exporter": "python",
   "pygments_lexer": "ipython2",
   "version": "2.7.11"
  }
 },
 "nbformat": 4,
 "nbformat_minor": 0
}
