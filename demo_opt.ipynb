{
 "cells": [
  {
   "cell_type": "code",
   "execution_count": null,
   "metadata": {
    "collapsed": false
   },
   "outputs": [],
   "source": [
    "import exVAF\n",
    "reload(exVAF)\n",
    "va=exVAF.VAF()\n",
    "import numpy as np\n",
    "from scipy.optimize import minimize"
   ]
  },
  {
   "cell_type": "code",
   "execution_count": null,
   "metadata": {
    "collapsed": true
   },
   "outputs": [],
   "source": [
    "%matplotlib inline\n",
    "import matplotlib.pylab as plt"
   ]
  },
  {
   "cell_type": "code",
   "execution_count": null,
   "metadata": {
    "collapsed": false
   },
   "outputs": [],
   "source": [
    "def cor2bpm(x,ls):\n",
    "    global sola,solx, ncount\n",
    "    ncount +=1\n",
    "    il = len(x)\n",
    "    xcin = x[0::2]\n",
    "    ycin = x[1::2]\n",
    "    for (i,pos) in enumerate(np.array(va.corls)[ls]):\n",
    "        va.setelem(pos,'theta_x',float(xcin[i]))\n",
    "        va.setelem(pos+1,'theta_y',float(ycin[i]))\n",
    "    va.tcs()\n",
    "    tmp = np.array(va.ldata)\n",
    "    xbpms = tmp[va.bpmls,1]\n",
    "    ybpms = tmp[va.bpmls,2]\n",
    "    r2bpms = np.sqrt(xbpms*xbpms+ybpms*ybpms)\n",
    "    ans = np.amax(r2bpms) * np.average(r2bpms)*np.std(r2bpms)\n",
    "    #ans = np.amax(r2bpms) * np.average(r2bpms)\n",
    "    if ans<sola :\n",
    "        sola = ans\n",
    "        solx = x\n",
    "    return(ans)\n",
    "\n",
    "\n",
    "def cor2reset():\n",
    "    for (i,pos) in enumerate(va.corls[::2]):\n",
    "        va.setelem(pos,'theta_x',0.0)\n",
    "        va.setelem(pos+1,'theta_y',0.0)\n",
    "    va.tcs()"
   ]
  },
  {
   "cell_type": "code",
   "execution_count": null,
   "metadata": {
    "collapsed": false
   },
   "outputs": [],
   "source": [
    "var = 90\n",
    "ls = range(0,var,2)\n",
    "x0 = np.zeros(var)\n",
    "bnds = np.array([(-3e-3, 3e-3) for _ in range(len(x0))],dtype=float)\n",
    "sola = 1e5\n",
    "ncount = 0"
   ]
  },
  {
   "cell_type": "code",
   "execution_count": null,
   "metadata": {
    "collapsed": false
   },
   "outputs": [],
   "source": [
    "sola = 1e5\n",
    "ncount = 0\n",
    "res=minimize(cor2bpm,x0,args=ls,method='L-BFGS-B',\\\n",
    "             bounds=bnds,\\\n",
    "             options={'maxiter':10, 'disp':False, 'eps':1.0e-7})"
   ]
  },
  {
   "cell_type": "code",
   "execution_count": null,
   "metadata": {
    "collapsed": false
   },
   "outputs": [],
   "source": [
    "cor2bpm(solx,ls)\n",
    "tmp=np.array(va.ldata)\n",
    "plt.plot(tmp[:,0],tmp[:,1], label='x')\n",
    "plt.plot(tmp[:,0],tmp[:,2], label='y')\n",
    "plt.legend(loc='best')\n",
    "plt.ylabel('orbit [mm]')\n",
    "plt.xlabel('z [m]')\n",
    "plt.title('Default Orbit')\n",
    "plt.show()"
   ]
  },
  {
   "cell_type": "code",
   "execution_count": null,
   "metadata": {
    "collapsed": false
   },
   "outputs": [],
   "source": [
    "cor2reset()\n",
    "tmp=np.array(va.ldata)\n",
    "plt.plot(tmp[:,0],tmp[:,1], label='x')\n",
    "plt.plot(tmp[:,0],tmp[:,2], label='y')\n",
    "plt.legend(loc='best')\n",
    "plt.ylabel('orbit [mm]')\n",
    "plt.xlabel('z [m]')\n",
    "plt.title('Default Orbit')\n",
    "plt.show()"
   ]
  }
 ],
 "metadata": {
  "kernelspec": {
   "display_name": "Python 2",
   "language": "python",
   "name": "python2"
  },
  "language_info": {
   "codemirror_mode": {
    "name": "ipython",
    "version": 2
   },
   "file_extension": ".py",
   "mimetype": "text/x-python",
   "name": "python",
   "nbconvert_exporter": "python",
   "pygments_lexer": "ipython2",
   "version": "2.7.11"
  }
 },
 "nbformat": 4,
 "nbformat_minor": 0
}
